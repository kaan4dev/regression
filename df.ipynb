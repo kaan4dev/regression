{
 "cells": [
  {
   "cell_type": "markdown",
   "metadata": {},
   "source": [
    "## Step 1: Imports\n"
   ]
  },
  {
   "cell_type": "code",
   "execution_count": 98,
   "metadata": {},
   "outputs": [],
   "source": [
    "import pandas as pd\n",
    "import kagglehub\n",
    "import math \n",
    "import numpy as np \n",
    "\n",
    "from sklearn import preprocessing, svm, model_selection\n",
    "from sklearn.linear_model import LinearRegression"
   ]
  },
  {
   "cell_type": "code",
   "execution_count": 99,
   "metadata": {},
   "outputs": [],
   "source": [
    "df = pd.read_csv('WIKI_PRICES.csv')"
   ]
  },
  {
   "cell_type": "markdown",
   "metadata": {},
   "source": [
    "## Step 2: Understand The Data"
   ]
  },
  {
   "cell_type": "code",
   "execution_count": 100,
   "metadata": {},
   "outputs": [
    {
     "name": "stdout",
     "output_type": "stream",
     "text": [
      "15389314\n",
      "14\n"
     ]
    }
   ],
   "source": [
    "print(df.shape[0])\n",
    "print(df.shape[1])"
   ]
  },
  {
   "cell_type": "code",
   "execution_count": 101,
   "metadata": {},
   "outputs": [
    {
     "data": {
      "text/plain": [
       "ticker           0\n",
       "date             0\n",
       "open           538\n",
       "high            55\n",
       "low             55\n",
       "close            1\n",
       "volume           0\n",
       "ex-dividend      0\n",
       "split_ratio      1\n",
       "adj_open       538\n",
       "adj_high        55\n",
       "adj_low         55\n",
       "adj_close        1\n",
       "adj_volume       0\n",
       "dtype: int64"
      ]
     },
     "execution_count": 101,
     "metadata": {},
     "output_type": "execute_result"
    }
   ],
   "source": [
    "df.isnull().sum()"
   ]
  },
  {
   "cell_type": "code",
   "execution_count": 102,
   "metadata": {},
   "outputs": [
    {
     "data": {
      "text/plain": [
       "ticker          object\n",
       "date            object\n",
       "open           float64\n",
       "high           float64\n",
       "low            float64\n",
       "close          float64\n",
       "volume         float64\n",
       "ex-dividend    float64\n",
       "split_ratio    float64\n",
       "adj_open       float64\n",
       "adj_high       float64\n",
       "adj_low        float64\n",
       "adj_close      float64\n",
       "adj_volume     float64\n",
       "dtype: object"
      ]
     },
     "execution_count": 102,
     "metadata": {},
     "output_type": "execute_result"
    }
   ],
   "source": [
    "df.dtypes"
   ]
  },
  {
   "cell_type": "code",
   "execution_count": 103,
   "metadata": {},
   "outputs": [
    {
     "data": {
      "application/vnd.microsoft.datawrangler.viewer.v0+json": {
       "columns": [
        {
         "name": "index",
         "rawType": "object",
         "type": "string"
        },
        {
         "name": "open",
         "rawType": "float64",
         "type": "float"
        },
        {
         "name": "high",
         "rawType": "float64",
         "type": "float"
        },
        {
         "name": "low",
         "rawType": "float64",
         "type": "float"
        },
        {
         "name": "close",
         "rawType": "float64",
         "type": "float"
        },
        {
         "name": "volume",
         "rawType": "float64",
         "type": "float"
        },
        {
         "name": "ex-dividend",
         "rawType": "float64",
         "type": "float"
        },
        {
         "name": "split_ratio",
         "rawType": "float64",
         "type": "float"
        },
        {
         "name": "adj_open",
         "rawType": "float64",
         "type": "float"
        },
        {
         "name": "adj_high",
         "rawType": "float64",
         "type": "float"
        },
        {
         "name": "adj_low",
         "rawType": "float64",
         "type": "float"
        },
        {
         "name": "adj_close",
         "rawType": "float64",
         "type": "float"
        },
        {
         "name": "adj_volume",
         "rawType": "float64",
         "type": "float"
        }
       ],
       "conversionMethod": "pd.DataFrame",
       "ref": "e89dbdff-8a9e-4904-9ada-63de1977d4c4",
       "rows": [
        [
         "count",
         "15388776.0",
         "15389259.0",
         "15389259.0",
         "15389313.0",
         "15389314.0",
         "15389314.0",
         "15389313.0",
         "15388776.0",
         "15389259.0",
         "15389259.0",
         "15389313.0",
         "15389314.0"
        ],
        [
         "mean",
         "76.52828622838761",
         "77.24188427969774",
         "75.77329291909246",
         "76.53463366218176",
         "1192647.2514915105",
         "0.0022023092506357708",
         "1.0001845791207908",
         "167.91331012707045",
         "170.65582236237196",
         "165.0796075405348",
         "167.87073124197423",
         "1412932.327862942"
        ],
        [
         "std",
         "2511.5235128004756",
         "2526.0964207113807",
         "2494.65597119095",
         "2511.145563247926",
         "8406732.038201421",
         "0.21454878895587634",
         "0.02078999255815461",
         "5231.339798872114",
         "5331.112277216861",
         "5130.088273293806",
         "5230.612668396538",
         "6535417.76604533"
        ],
        [
         "min",
         "0.001",
         "0.002",
         "0.001",
         "0.002",
         "0.0",
         "0.0",
         "0.00175",
         "0.0071091001170027",
         "0.007870789415253",
         "0.0071091001170027",
         "0.007870789415253",
         "0.0"
        ],
        [
         "25%",
         "11.97",
         "12.17",
         "11.75",
         "11.97",
         "38500.0",
         "0.0",
         "1.0",
         "6.1302123664282755",
         "6.25",
         "6.0103353277135",
         "6.130321121664405",
         "46800.0"
        ],
        [
         "50%",
         "23.25",
         "23.62",
         "22.9",
         "23.25",
         "186646.0",
         "0.0",
         "1.0",
         "13.878510804805",
         "14.101705483137",
         "13.632241769438",
         "13.87931837474",
         "232100.0"
        ],
        [
         "75%",
         "39.45",
         "39.95",
         "38.92",
         "39.46",
         "717400.0",
         "0.0",
         "1.0",
         "28.09588416264375",
         "28.51",
         "27.66",
         "28.096501212632",
         "907200.0"
        ],
        [
         "max",
         "325650.0",
         "326350.0",
         "323100.0",
         "325915.0",
         "6674913000.0",
         "567.9716684978812",
         "50.0",
         "870240.0",
         "923280.0",
         "854519.9999999999",
         "878519.9999999999",
         "2304018600.0"
        ]
       ],
       "shape": {
        "columns": 12,
        "rows": 8
       }
      },
      "text/html": [
       "<div>\n",
       "<style scoped>\n",
       "    .dataframe tbody tr th:only-of-type {\n",
       "        vertical-align: middle;\n",
       "    }\n",
       "\n",
       "    .dataframe tbody tr th {\n",
       "        vertical-align: top;\n",
       "    }\n",
       "\n",
       "    .dataframe thead th {\n",
       "        text-align: right;\n",
       "    }\n",
       "</style>\n",
       "<table border=\"1\" class=\"dataframe\">\n",
       "  <thead>\n",
       "    <tr style=\"text-align: right;\">\n",
       "      <th></th>\n",
       "      <th>open</th>\n",
       "      <th>high</th>\n",
       "      <th>low</th>\n",
       "      <th>close</th>\n",
       "      <th>volume</th>\n",
       "      <th>ex-dividend</th>\n",
       "      <th>split_ratio</th>\n",
       "      <th>adj_open</th>\n",
       "      <th>adj_high</th>\n",
       "      <th>adj_low</th>\n",
       "      <th>adj_close</th>\n",
       "      <th>adj_volume</th>\n",
       "    </tr>\n",
       "  </thead>\n",
       "  <tbody>\n",
       "    <tr>\n",
       "      <th>count</th>\n",
       "      <td>1.538878e+07</td>\n",
       "      <td>1.538926e+07</td>\n",
       "      <td>1.538926e+07</td>\n",
       "      <td>1.538931e+07</td>\n",
       "      <td>1.538931e+07</td>\n",
       "      <td>1.538931e+07</td>\n",
       "      <td>1.538931e+07</td>\n",
       "      <td>1.538878e+07</td>\n",
       "      <td>1.538926e+07</td>\n",
       "      <td>1.538926e+07</td>\n",
       "      <td>1.538931e+07</td>\n",
       "      <td>1.538931e+07</td>\n",
       "    </tr>\n",
       "    <tr>\n",
       "      <th>mean</th>\n",
       "      <td>7.652829e+01</td>\n",
       "      <td>7.724188e+01</td>\n",
       "      <td>7.577329e+01</td>\n",
       "      <td>7.653463e+01</td>\n",
       "      <td>1.192647e+06</td>\n",
       "      <td>2.202309e-03</td>\n",
       "      <td>1.000185e+00</td>\n",
       "      <td>1.679133e+02</td>\n",
       "      <td>1.706558e+02</td>\n",
       "      <td>1.650796e+02</td>\n",
       "      <td>1.678707e+02</td>\n",
       "      <td>1.412932e+06</td>\n",
       "    </tr>\n",
       "    <tr>\n",
       "      <th>std</th>\n",
       "      <td>2.511524e+03</td>\n",
       "      <td>2.526096e+03</td>\n",
       "      <td>2.494656e+03</td>\n",
       "      <td>2.511146e+03</td>\n",
       "      <td>8.406732e+06</td>\n",
       "      <td>2.145488e-01</td>\n",
       "      <td>2.078999e-02</td>\n",
       "      <td>5.231340e+03</td>\n",
       "      <td>5.331112e+03</td>\n",
       "      <td>5.130088e+03</td>\n",
       "      <td>5.230613e+03</td>\n",
       "      <td>6.535418e+06</td>\n",
       "    </tr>\n",
       "    <tr>\n",
       "      <th>min</th>\n",
       "      <td>1.000000e-03</td>\n",
       "      <td>2.000000e-03</td>\n",
       "      <td>1.000000e-03</td>\n",
       "      <td>2.000000e-03</td>\n",
       "      <td>0.000000e+00</td>\n",
       "      <td>0.000000e+00</td>\n",
       "      <td>1.750000e-03</td>\n",
       "      <td>7.109100e-03</td>\n",
       "      <td>7.870789e-03</td>\n",
       "      <td>7.109100e-03</td>\n",
       "      <td>7.870789e-03</td>\n",
       "      <td>0.000000e+00</td>\n",
       "    </tr>\n",
       "    <tr>\n",
       "      <th>25%</th>\n",
       "      <td>1.197000e+01</td>\n",
       "      <td>1.217000e+01</td>\n",
       "      <td>1.175000e+01</td>\n",
       "      <td>1.197000e+01</td>\n",
       "      <td>3.850000e+04</td>\n",
       "      <td>0.000000e+00</td>\n",
       "      <td>1.000000e+00</td>\n",
       "      <td>6.130212e+00</td>\n",
       "      <td>6.250000e+00</td>\n",
       "      <td>6.010335e+00</td>\n",
       "      <td>6.130321e+00</td>\n",
       "      <td>4.680000e+04</td>\n",
       "    </tr>\n",
       "    <tr>\n",
       "      <th>50%</th>\n",
       "      <td>2.325000e+01</td>\n",
       "      <td>2.362000e+01</td>\n",
       "      <td>2.290000e+01</td>\n",
       "      <td>2.325000e+01</td>\n",
       "      <td>1.866460e+05</td>\n",
       "      <td>0.000000e+00</td>\n",
       "      <td>1.000000e+00</td>\n",
       "      <td>1.387851e+01</td>\n",
       "      <td>1.410171e+01</td>\n",
       "      <td>1.363224e+01</td>\n",
       "      <td>1.387932e+01</td>\n",
       "      <td>2.321000e+05</td>\n",
       "    </tr>\n",
       "    <tr>\n",
       "      <th>75%</th>\n",
       "      <td>3.945000e+01</td>\n",
       "      <td>3.995000e+01</td>\n",
       "      <td>3.892000e+01</td>\n",
       "      <td>3.946000e+01</td>\n",
       "      <td>7.174000e+05</td>\n",
       "      <td>0.000000e+00</td>\n",
       "      <td>1.000000e+00</td>\n",
       "      <td>2.809588e+01</td>\n",
       "      <td>2.851000e+01</td>\n",
       "      <td>2.766000e+01</td>\n",
       "      <td>2.809650e+01</td>\n",
       "      <td>9.072000e+05</td>\n",
       "    </tr>\n",
       "    <tr>\n",
       "      <th>max</th>\n",
       "      <td>3.256500e+05</td>\n",
       "      <td>3.263500e+05</td>\n",
       "      <td>3.231000e+05</td>\n",
       "      <td>3.259150e+05</td>\n",
       "      <td>6.674913e+09</td>\n",
       "      <td>5.679717e+02</td>\n",
       "      <td>5.000000e+01</td>\n",
       "      <td>8.702400e+05</td>\n",
       "      <td>9.232800e+05</td>\n",
       "      <td>8.545200e+05</td>\n",
       "      <td>8.785200e+05</td>\n",
       "      <td>2.304019e+09</td>\n",
       "    </tr>\n",
       "  </tbody>\n",
       "</table>\n",
       "</div>"
      ],
      "text/plain": [
       "               open          high           low         close        volume  \\\n",
       "count  1.538878e+07  1.538926e+07  1.538926e+07  1.538931e+07  1.538931e+07   \n",
       "mean   7.652829e+01  7.724188e+01  7.577329e+01  7.653463e+01  1.192647e+06   \n",
       "std    2.511524e+03  2.526096e+03  2.494656e+03  2.511146e+03  8.406732e+06   \n",
       "min    1.000000e-03  2.000000e-03  1.000000e-03  2.000000e-03  0.000000e+00   \n",
       "25%    1.197000e+01  1.217000e+01  1.175000e+01  1.197000e+01  3.850000e+04   \n",
       "50%    2.325000e+01  2.362000e+01  2.290000e+01  2.325000e+01  1.866460e+05   \n",
       "75%    3.945000e+01  3.995000e+01  3.892000e+01  3.946000e+01  7.174000e+05   \n",
       "max    3.256500e+05  3.263500e+05  3.231000e+05  3.259150e+05  6.674913e+09   \n",
       "\n",
       "        ex-dividend   split_ratio      adj_open      adj_high       adj_low  \\\n",
       "count  1.538931e+07  1.538931e+07  1.538878e+07  1.538926e+07  1.538926e+07   \n",
       "mean   2.202309e-03  1.000185e+00  1.679133e+02  1.706558e+02  1.650796e+02   \n",
       "std    2.145488e-01  2.078999e-02  5.231340e+03  5.331112e+03  5.130088e+03   \n",
       "min    0.000000e+00  1.750000e-03  7.109100e-03  7.870789e-03  7.109100e-03   \n",
       "25%    0.000000e+00  1.000000e+00  6.130212e+00  6.250000e+00  6.010335e+00   \n",
       "50%    0.000000e+00  1.000000e+00  1.387851e+01  1.410171e+01  1.363224e+01   \n",
       "75%    0.000000e+00  1.000000e+00  2.809588e+01  2.851000e+01  2.766000e+01   \n",
       "max    5.679717e+02  5.000000e+01  8.702400e+05  9.232800e+05  8.545200e+05   \n",
       "\n",
       "          adj_close    adj_volume  \n",
       "count  1.538931e+07  1.538931e+07  \n",
       "mean   1.678707e+02  1.412932e+06  \n",
       "std    5.230613e+03  6.535418e+06  \n",
       "min    7.870789e-03  0.000000e+00  \n",
       "25%    6.130321e+00  4.680000e+04  \n",
       "50%    1.387932e+01  2.321000e+05  \n",
       "75%    2.809650e+01  9.072000e+05  \n",
       "max    8.785200e+05  2.304019e+09  "
      ]
     },
     "execution_count": 103,
     "metadata": {},
     "output_type": "execute_result"
    }
   ],
   "source": [
    "df.describe()"
   ]
  },
  {
   "cell_type": "code",
   "execution_count": 104,
   "metadata": {},
   "outputs": [
    {
     "name": "stdout",
     "output_type": "stream",
     "text": [
      "ticker : 3199\n",
      "date : 14277\n",
      "open : 124876\n",
      "high : 267980\n",
      "low : 274874\n",
      "close : 123164\n",
      "volume : 1678767\n",
      "ex-dividend : 2163\n",
      "split_ratio : 125\n",
      "adj_open : 7137032\n",
      "adj_high : 7209700\n",
      "adj_low : 7215091\n",
      "adj_close : 7039021\n",
      "adj_volume : 1978562\n"
     ]
    }
   ],
   "source": [
    "for column in df.columns:\n",
    "    print(f\"{column} : {len(df[column].unique())}\")"
   ]
  },
  {
   "cell_type": "markdown",
   "metadata": {},
   "source": [
    "## Step 3: Clean And Prepare The Data"
   ]
  },
  {
   "cell_type": "code",
   "execution_count": 105,
   "metadata": {},
   "outputs": [],
   "source": [
    "dataframe = df[['adj_open', 'adj_high', 'adj_low', 'adj_close', 'adj_volume']]"
   ]
  },
  {
   "cell_type": "code",
   "execution_count": 106,
   "metadata": {},
   "outputs": [],
   "source": [
    "dataframe = dataframe.rename(columns={'adj_open':'open', 'adj_high':'high', 'adj_low':'low', 'adj_close':'close', 'adj_volume':'volume'})"
   ]
  },
  {
   "cell_type": "code",
   "execution_count": 107,
   "metadata": {},
   "outputs": [],
   "source": [
    "dataframe['volatilityPercentage'] = (dataframe['open'] - dataframe['close']) / dataframe['close'] * 100.0\n",
    "dataframe['percentageChange'] = (dataframe['close'] - dataframe['open']) / dataframe['open'] * 100.0"
   ]
  },
  {
   "cell_type": "code",
   "execution_count": 108,
   "metadata": {},
   "outputs": [],
   "source": [
    "df = dataframe[['close', 'volatilityPercentage', 'percentageChange', 'volume']]"
   ]
  },
  {
   "cell_type": "code",
   "execution_count": 109,
   "metadata": {},
   "outputs": [
    {
     "name": "stderr",
     "output_type": "stream",
     "text": [
      "/var/folders/0h/llh43wgj6k7czcwtttvv19900000gn/T/ipykernel_22313/258569621.py:1: SettingWithCopyWarning: \n",
      "A value is trying to be set on a copy of a slice from a DataFrame\n",
      "\n",
      "See the caveats in the documentation: https://pandas.pydata.org/pandas-docs/stable/user_guide/indexing.html#returning-a-view-versus-a-copy\n",
      "  df.fillna(-99999, inplace= True)\n"
     ]
    }
   ],
   "source": [
    "df.fillna(-99999, inplace= True)"
   ]
  },
  {
   "cell_type": "code",
   "execution_count": 110,
   "metadata": {},
   "outputs": [
    {
     "name": "stderr",
     "output_type": "stream",
     "text": [
      "/var/folders/0h/llh43wgj6k7czcwtttvv19900000gn/T/ipykernel_22313/1124485253.py:1: SettingWithCopyWarning: \n",
      "A value is trying to be set on a copy of a slice from a DataFrame\n",
      "\n",
      "See the caveats in the documentation: https://pandas.pydata.org/pandas-docs/stable/user_guide/indexing.html#returning-a-view-versus-a-copy\n",
      "  df.dropna(inplace= True)\n"
     ]
    }
   ],
   "source": [
    "df.dropna(inplace= True)"
   ]
  },
  {
   "cell_type": "code",
   "execution_count": 111,
   "metadata": {},
   "outputs": [
    {
     "data": {
      "application/vnd.microsoft.datawrangler.viewer.v0+json": {
       "columns": [
        {
         "name": "index",
         "rawType": "int64",
         "type": "integer"
        },
        {
         "name": "close",
         "rawType": "float64",
         "type": "float"
        },
        {
         "name": "volatilityPercentage",
         "rawType": "float64",
         "type": "float"
        },
        {
         "name": "percentageChange",
         "rawType": "float64",
         "type": "float"
        },
        {
         "name": "volume",
         "rawType": "float64",
         "type": "float"
        }
       ],
       "conversionMethod": "pd.DataFrame",
       "ref": "a9d0d022-0386-43e3-8b7f-e8f6751b69ef",
       "rows": [
        [
         "0",
         "30.018590187749",
         "3.4090909090915558",
         "-3.2967032967039014",
         "44739900.0"
        ],
        [
         "1",
         "27.548878904121",
         "6.339772164437288",
         "-5.961807172798766",
         "10897100.0"
        ],
        [
         "2",
         "30.018590187749",
         "-6.113636363635686",
         "6.511740498667834",
         "4705200.0"
        ],
        [
         "3",
         "27.46018761493",
         "5.59006211180219",
         "-5.294117647059674",
         "4274400.0"
        ],
        [
         "4",
         "28.012802570659",
         "-2.264978080856388",
         "2.3174682282572254",
         "3464400.0"
        ]
       ],
       "shape": {
        "columns": 4,
        "rows": 5
       }
      },
      "text/html": [
       "<div>\n",
       "<style scoped>\n",
       "    .dataframe tbody tr th:only-of-type {\n",
       "        vertical-align: middle;\n",
       "    }\n",
       "\n",
       "    .dataframe tbody tr th {\n",
       "        vertical-align: top;\n",
       "    }\n",
       "\n",
       "    .dataframe thead th {\n",
       "        text-align: right;\n",
       "    }\n",
       "</style>\n",
       "<table border=\"1\" class=\"dataframe\">\n",
       "  <thead>\n",
       "    <tr style=\"text-align: right;\">\n",
       "      <th></th>\n",
       "      <th>close</th>\n",
       "      <th>volatilityPercentage</th>\n",
       "      <th>percentageChange</th>\n",
       "      <th>volume</th>\n",
       "    </tr>\n",
       "  </thead>\n",
       "  <tbody>\n",
       "    <tr>\n",
       "      <th>0</th>\n",
       "      <td>30.018590</td>\n",
       "      <td>3.409091</td>\n",
       "      <td>-3.296703</td>\n",
       "      <td>44739900.0</td>\n",
       "    </tr>\n",
       "    <tr>\n",
       "      <th>1</th>\n",
       "      <td>27.548879</td>\n",
       "      <td>6.339772</td>\n",
       "      <td>-5.961807</td>\n",
       "      <td>10897100.0</td>\n",
       "    </tr>\n",
       "    <tr>\n",
       "      <th>2</th>\n",
       "      <td>30.018590</td>\n",
       "      <td>-6.113636</td>\n",
       "      <td>6.511740</td>\n",
       "      <td>4705200.0</td>\n",
       "    </tr>\n",
       "    <tr>\n",
       "      <th>3</th>\n",
       "      <td>27.460188</td>\n",
       "      <td>5.590062</td>\n",
       "      <td>-5.294118</td>\n",
       "      <td>4274400.0</td>\n",
       "    </tr>\n",
       "    <tr>\n",
       "      <th>4</th>\n",
       "      <td>28.012803</td>\n",
       "      <td>-2.264978</td>\n",
       "      <td>2.317468</td>\n",
       "      <td>3464400.0</td>\n",
       "    </tr>\n",
       "  </tbody>\n",
       "</table>\n",
       "</div>"
      ],
      "text/plain": [
       "       close  volatilityPercentage  percentageChange      volume\n",
       "0  30.018590              3.409091         -3.296703  44739900.0\n",
       "1  27.548879              6.339772         -5.961807  10897100.0\n",
       "2  30.018590             -6.113636          6.511740   4705200.0\n",
       "3  27.460188              5.590062         -5.294118   4274400.0\n",
       "4  28.012803             -2.264978          2.317468   3464400.0"
      ]
     },
     "execution_count": 111,
     "metadata": {},
     "output_type": "execute_result"
    }
   ],
   "source": [
    "df.head()"
   ]
  },
  {
   "cell_type": "markdown",
   "metadata": {},
   "source": [
    "## Machine Learning"
   ]
  },
  {
   "cell_type": "code",
   "execution_count": 112,
   "metadata": {},
   "outputs": [],
   "source": [
    "forecastCol = 'close'\n",
    "forecastOut = int(math.ceil(0.000001 * len(df)))"
   ]
  },
  {
   "cell_type": "code",
   "execution_count": 113,
   "metadata": {},
   "outputs": [
    {
     "name": "stderr",
     "output_type": "stream",
     "text": [
      "/var/folders/0h/llh43wgj6k7czcwtttvv19900000gn/T/ipykernel_22313/1854769823.py:1: SettingWithCopyWarning: \n",
      "A value is trying to be set on a copy of a slice from a DataFrame.\n",
      "Try using .loc[row_indexer,col_indexer] = value instead\n",
      "\n",
      "See the caveats in the documentation: https://pandas.pydata.org/pandas-docs/stable/user_guide/indexing.html#returning-a-view-versus-a-copy\n",
      "  df['label'] = df[forecastCol].shift(-forecastOut)\n"
     ]
    }
   ],
   "source": [
    "df['label'] = df[forecastCol].shift(-forecastOut)"
   ]
  },
  {
   "cell_type": "code",
   "execution_count": 114,
   "metadata": {},
   "outputs": [
    {
     "name": "stderr",
     "output_type": "stream",
     "text": [
      "/var/folders/0h/llh43wgj6k7czcwtttvv19900000gn/T/ipykernel_22313/1124485253.py:1: SettingWithCopyWarning: \n",
      "A value is trying to be set on a copy of a slice from a DataFrame\n",
      "\n",
      "See the caveats in the documentation: https://pandas.pydata.org/pandas-docs/stable/user_guide/indexing.html#returning-a-view-versus-a-copy\n",
      "  df.dropna(inplace= True)\n"
     ]
    }
   ],
   "source": [
    "df.dropna(inplace= True)"
   ]
  },
  {
   "cell_type": "code",
   "execution_count": 115,
   "metadata": {},
   "outputs": [],
   "source": [
    "x = np.array(df.drop(['label'], axis=1))\n",
    "y = np.array(df['label'])"
   ]
  },
  {
   "cell_type": "code",
   "execution_count": 116,
   "metadata": {},
   "outputs": [],
   "source": [
    "x = preprocessing.scale(x)\n",
    "y = np.array(df['label'])"
   ]
  },
  {
   "cell_type": "code",
   "execution_count": 117,
   "metadata": {},
   "outputs": [],
   "source": [
    "xTrain, xTest, yTrain, yTest = model_selection.train_test_split(x, y, test_size=0.2)"
   ]
  },
  {
   "cell_type": "code",
   "execution_count": null,
   "metadata": {},
   "outputs": [],
   "source": [
    "clf = svm.SVR()\n",
    "\n",
    "clf.fit(xTrain, yTrain)\n",
    "\n",
    "accuracy = clf.score(xTest, yTest)\n",
    "\n",
    "print(accuracy)"
   ]
  },
  {
   "cell_type": "code",
   "execution_count": null,
   "metadata": {},
   "outputs": [
    {
     "name": "stdout",
     "output_type": "stream",
     "text": [
      "0.9743653570805323 16\n"
     ]
    }
   ],
   "source": [
    "clf = LinearRegression()\n",
    "\n",
    "clf.fit(xTrain, yTrain)\n",
    "\n",
    "accuracy = clf.score(xTest, yTest)\n",
    "\n",
    "print(accuracy)\n"
   ]
  }
 ],
 "metadata": {
  "kernelspec": {
   "display_name": "tf-env",
   "language": "python",
   "name": "python3"
  },
  "language_info": {
   "codemirror_mode": {
    "name": "ipython",
    "version": 3
   },
   "file_extension": ".py",
   "mimetype": "text/x-python",
   "name": "python",
   "nbconvert_exporter": "python",
   "pygments_lexer": "ipython3",
   "version": "3.8.20"
  }
 },
 "nbformat": 4,
 "nbformat_minor": 2
}
